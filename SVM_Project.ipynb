{
  "nbformat": 4,
  "nbformat_minor": 0,
  "metadata": {
    "colab": {
      "name": "Copy of Copy of DNA-Classification-Project",
      "provenance": []
    },
    "kernelspec": {
      "name": "python3",
      "display_name": "Python 3"
    },
    "language_info": {
      "name": "python"
    }
  },
  "cells": [
    {
      "cell_type": "markdown",
      "metadata": {
        "id": "be9vYooYD_g_"
      },
      "source": [
        "![Large120.jpg](data:image/jpeg;base64,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)\n",
        "\n",
        "## E.Coli DNA classification \n",
        "\n"
      ]
    },
    {
      "cell_type": "markdown",
      "metadata": {
        "id": "RlcApmOxEInX"
      },
      "source": [
        "In this project, we will explore the world of bioinformatics by using Markov models, K-nearest neighbor (KNN) algorithms, support vector machines, and other common classifiers to classify short E. Coli DNA sequences. This project will use a dataset from the UCI Machine Learning Repository that has 106 DNA sequences, with 57 sequential nucleotides (“base-pairs”) each.\n"
      ]
    },
    {
      "cell_type": "markdown",
      "metadata": {
        "id": "XHyjmueLESst"
      },
      "source": [
        "Required packages"
      ]
    },
    {
      "cell_type": "code",
      "metadata": {
        "id": "r_QjN_EgEVoy"
      },
      "source": [
        "import numpy as np\n",
        "import matplotlib.pyplot as plt\n",
        "import pandas as pd\n",
        "from sklearn.neighbors import KNeighborsClassifier\n",
        "from sklearn.tree import DecisionTreeClassifier\n",
        "from sklearn import svm\n",
        "from sklearn.naive_bayes import GaussianNB\n",
        "from sklearn.gaussian_process.kernels import RBF\n",
        "from sklearn.gaussian_process import GaussianProcessClassifier\n",
        "from sklearn.neural_network import MLPClassifier\n",
        "from sklearn.ensemble import RandomForestClassifier, AdaBoostClassifier\n",
        "from sklearn.metrics import classification_report, accuracy_score\n",
        "from sklearn.model_selection import train_test_split\n",
        "from sklearn.model_selection import KFold, cross_val_score"
      ],
      "execution_count": 1,
      "outputs": []
    },
    {
      "cell_type": "markdown",
      "metadata": {
        "id": "6DH33QMdEPWW"
      },
      "source": [
        "Importing the Dataset"
      ]
    },
    {
      "cell_type": "code",
      "metadata": {
        "id": "Dh3TClh4D5nj"
      },
      "source": [
        "url = 'https://archive.ics.uci.edu/ml/machine-learning-databases/molecular-biology/promoter-gene-sequences/promoters.data'\n",
        "names = ['Class', 'id', 'Sequence']\n",
        "df = pd.read_csv(url, names = names)"
      ],
      "execution_count": 2,
      "outputs": []
    },
    {
      "cell_type": "code",
      "metadata": {
        "colab": {
          "base_uri": "https://localhost:8080/",
          "height": 206
        },
        "id": "LgN1qrhrFtpz",
        "outputId": "189e6fa2-e5e6-445d-a89c-e0f9a4753d12"
      },
      "source": [
        "df.head()"
      ],
      "execution_count": 3,
      "outputs": [
        {
          "output_type": "execute_result",
          "data": {
            "text/html": [
              "<div>\n",
              "<style scoped>\n",
              "    .dataframe tbody tr th:only-of-type {\n",
              "        vertical-align: middle;\n",
              "    }\n",
              "\n",
              "    .dataframe tbody tr th {\n",
              "        vertical-align: top;\n",
              "    }\n",
              "\n",
              "    .dataframe thead th {\n",
              "        text-align: right;\n",
              "    }\n",
              "</style>\n",
              "<table border=\"1\" class=\"dataframe\">\n",
              "  <thead>\n",
              "    <tr style=\"text-align: right;\">\n",
              "      <th></th>\n",
              "      <th>Class</th>\n",
              "      <th>id</th>\n",
              "      <th>Sequence</th>\n",
              "    </tr>\n",
              "  </thead>\n",
              "  <tbody>\n",
              "    <tr>\n",
              "      <th>0</th>\n",
              "      <td>+</td>\n",
              "      <td>S10</td>\n",
              "      <td>\\t\\ttactagcaatacgcttgcgttcggtggttaagtatgtataat...</td>\n",
              "    </tr>\n",
              "    <tr>\n",
              "      <th>1</th>\n",
              "      <td>+</td>\n",
              "      <td>AMPC</td>\n",
              "      <td>\\t\\ttgctatcctgacagttgtcacgctgattggtgtcgttacaat...</td>\n",
              "    </tr>\n",
              "    <tr>\n",
              "      <th>2</th>\n",
              "      <td>+</td>\n",
              "      <td>AROH</td>\n",
              "      <td>\\t\\tgtactagagaactagtgcattagcttatttttttgttatcat...</td>\n",
              "    </tr>\n",
              "    <tr>\n",
              "      <th>3</th>\n",
              "      <td>+</td>\n",
              "      <td>DEOP2</td>\n",
              "      <td>\\taattgtgatgtgtatcgaagtgtgttgcggagtagatgttagaa...</td>\n",
              "    </tr>\n",
              "    <tr>\n",
              "      <th>4</th>\n",
              "      <td>+</td>\n",
              "      <td>LEU1_TRNA</td>\n",
              "      <td>\\ttcgataattaactattgacgaaaagctgaaaaccactagaatgc...</td>\n",
              "    </tr>\n",
              "  </tbody>\n",
              "</table>\n",
              "</div>"
            ],
            "text/plain": [
              "  Class         id                                           Sequence\n",
              "0     +        S10  \\t\\ttactagcaatacgcttgcgttcggtggttaagtatgtataat...\n",
              "1     +       AMPC  \\t\\ttgctatcctgacagttgtcacgctgattggtgtcgttacaat...\n",
              "2     +       AROH  \\t\\tgtactagagaactagtgcattagcttatttttttgttatcat...\n",
              "3     +      DEOP2  \\taattgtgatgtgtatcgaagtgtgttgcggagtagatgttagaa...\n",
              "4     +  LEU1_TRNA  \\ttcgataattaactattgacgaaaagctgaaaaccactagaatgc..."
            ]
          },
          "metadata": {},
          "execution_count": 3
        }
      ]
    },
    {
      "cell_type": "code",
      "metadata": {
        "colab": {
          "base_uri": "https://localhost:8080/"
        },
        "id": "Og9bUqOgFvhn",
        "outputId": "98cfa721-cc0c-4f85-8a0b-a8af85c73063"
      },
      "source": [
        "df.shape"
      ],
      "execution_count": 4,
      "outputs": [
        {
          "output_type": "execute_result",
          "data": {
            "text/plain": [
              "(106, 3)"
            ]
          },
          "metadata": {},
          "execution_count": 4
        }
      ]
    },
    {
      "cell_type": "code",
      "metadata": {
        "colab": {
          "base_uri": "https://localhost:8080/",
          "height": 175
        },
        "id": "j3JrOltDFxv-",
        "outputId": "a39dbb4e-8602-4fea-d6b6-81b54dd8ac23"
      },
      "source": [
        "df.describe()"
      ],
      "execution_count": 5,
      "outputs": [
        {
          "output_type": "execute_result",
          "data": {
            "text/html": [
              "<div>\n",
              "<style scoped>\n",
              "    .dataframe tbody tr th:only-of-type {\n",
              "        vertical-align: middle;\n",
              "    }\n",
              "\n",
              "    .dataframe tbody tr th {\n",
              "        vertical-align: top;\n",
              "    }\n",
              "\n",
              "    .dataframe thead th {\n",
              "        text-align: right;\n",
              "    }\n",
              "</style>\n",
              "<table border=\"1\" class=\"dataframe\">\n",
              "  <thead>\n",
              "    <tr style=\"text-align: right;\">\n",
              "      <th></th>\n",
              "      <th>Class</th>\n",
              "      <th>id</th>\n",
              "      <th>Sequence</th>\n",
              "    </tr>\n",
              "  </thead>\n",
              "  <tbody>\n",
              "    <tr>\n",
              "      <th>count</th>\n",
              "      <td>106</td>\n",
              "      <td>106</td>\n",
              "      <td>106</td>\n",
              "    </tr>\n",
              "    <tr>\n",
              "      <th>unique</th>\n",
              "      <td>2</td>\n",
              "      <td>106</td>\n",
              "      <td>106</td>\n",
              "    </tr>\n",
              "    <tr>\n",
              "      <th>top</th>\n",
              "      <td>-</td>\n",
              "      <td>751</td>\n",
              "      <td>\\t\\tttagagagcatgtcagcctcgacaacttgcataaatgctttc...</td>\n",
              "    </tr>\n",
              "    <tr>\n",
              "      <th>freq</th>\n",
              "      <td>53</td>\n",
              "      <td>1</td>\n",
              "      <td>1</td>\n",
              "    </tr>\n",
              "  </tbody>\n",
              "</table>\n",
              "</div>"
            ],
            "text/plain": [
              "       Class    id                                           Sequence\n",
              "count    106   106                                                106\n",
              "unique     2   106                                                106\n",
              "top        -   751  \\t\\tttagagagcatgtcagcctcgacaacttgcataaatgctttc...\n",
              "freq      53     1                                                  1"
            ]
          },
          "metadata": {},
          "execution_count": 5
        }
      ]
    },
    {
      "cell_type": "markdown",
      "metadata": {
        "id": "iAjKruaEGBU0"
      },
      "source": [
        "## Preprocessing the Dataset"
      ]
    },
    {
      "cell_type": "markdown",
      "metadata": {
        "id": "WX6CfEZUGI-I"
      },
      "source": [
        "The data is not in a usable form; as a result, we will need to process it before using it to train our algorithms."
      ]
    },
    {
      "cell_type": "code",
      "metadata": {
        "colab": {
          "base_uri": "https://localhost:8080/"
        },
        "id": "2bTWZseEGIo5",
        "outputId": "d1f47c64-3175-4eff-8146-57f64fc84376"
      },
      "source": [
        "# Build our dataset using custom pandas dataframe\n",
        "clases = df.loc[:,'Class']\n",
        "# generate list of DNA sequence\n",
        "sequence = list(df.loc[:, 'Sequence'])\n",
        "sequence"
      ],
      "execution_count": 6,
      "outputs": [
        {
          "output_type": "execute_result",
          "data": {
            "text/plain": [
              "['\\t\\ttactagcaatacgcttgcgttcggtggttaagtatgtataatgcgcgggcttgtcgt',\n",
              " '\\t\\ttgctatcctgacagttgtcacgctgattggtgtcgttacaatctaacgcatcgccaa',\n",
              " '\\t\\tgtactagagaactagtgcattagcttatttttttgttatcatgctaaccacccggcg',\n",
              " '\\taattgtgatgtgtatcgaagtgtgttgcggagtagatgttagaatactaacaaactc',\n",
              " '\\ttcgataattaactattgacgaaaagctgaaaaccactagaatgcgcctccgtggtag',\n",
              " '\\taggggcaaggaggatggaaagaggttgccgtataaagaaactagagtccgtttaggt',\n",
              " '\\t\\tcagggggtggaggatttaagccatctcctgatgacgcatagtcagcccatcatgaat',\n",
              " '\\t\\ttttctacaaaacacttgatactgtatgagcatacagtataattgcttcaacagaaca',\n",
              " '\\t\\tcgacttaatatactgcgacaggacgtccgttctgtgtaaatcgcaatgaaatggttt',\n",
              " '\\tttttaaatttcctcttgtcaggccggaataactccctataatgcgccaccactgaca',\n",
              " '\\tgcaaaaataaatgcttgactctgtagcgggaaggcgtattatgcacaccccgcgccg',\n",
              " '\\tcctgaaattcagggttgactctgaaagaggaaagcgtaatatacgccacctcgcgac',\n",
              " '\\tgatcaaaaaaatacttgtgcaaaaaattgggatccctataatgcgcctccgttgaga',\n",
              " '\\tctgcaatttttctattgcggcctgcggagaactccctataatgcgcctccatcgaca',\n",
              " '\\ttttatatttttcgcttgtcaggccggaataactccctataatgcgccaccactgaca',\n",
              " '\\taagcaaagaaatgcttgactctgtagcgggaaggcgtattatgcacaccgccgcgcc',\n",
              " '\\tatgcatttttccgcttgtcttcctgagccgactccctataatgcgcctccatcgaca',\n",
              " '\\t\\taaacaatttcagaatagacaaaaactctgagtgtaataatgtagcctcgtgtcttgc',\n",
              " '\\t\\ttctcaacgtaacactttacagcggcgcgtcatttgatatgatgcgccccgcttcccg',\n",
              " '\\t\\tgcaaataatcaatgtggacttttctgccgtgattatagacacttttgttacgcgttt',\n",
              " '\\t\\tgacaccatcgaatggcgcaaaacctttcgcggtatggcatgatagcgcccggaagag',\n",
              " '\\t\\taaaaacgtcatcgcttgcattagaaaggtttctggccgaccttataaccattaatta',\n",
              " '\\t\\ttctgaaatgagctgttgacaattaatcatcgaactagttaactagtacgcaagttca',\n",
              " '\\taccggaagaaaaccgtgacattttaacacgtttgttacaaggtaaaggcgacgccgc',\n",
              " '\\t\\taaattaaaattttattgacttaggtcactaaatactttaaccaatataggcatagcg',\n",
              " '\\t\\tttgtcataatcgacttgtaaaccaaattgaaaagatttaggtttacaagtctacacc',\n",
              " '\\t\\tcatcctcgcaccagtcgacgacggtttacgctttacgtatagtggcgacaatttttt',\n",
              " '\\ttccagtataatttgttggcataattaagtacgacgagtaaaattacatacctgcccg',\n",
              " '\\tacagttatccactattcctgtggataaccatgtgtattagagttagaaaacacgagg',\n",
              " '\\t\\ttgtgcagtttatggttccaaaatcgccttttgctgtatatactcacagcataactgt',\n",
              " '\\tctgttgttcagtttttgagttgtgtataacccctcattctgatcccagcttatacgg',\n",
              " '\\tattacaaaaagtgctttctgaactgaacaaaaaagagtaaagttagtcgcgtagggt',\n",
              " '\\tatgcgcaacgcggggtgacaagggcgcgcaaaccctctatactgcgcgccgaagctg',\n",
              " '\\t\\ttaaaaaactaacagttgtcagcctgtcccgcttataagatcatacgccgttatacgt',\n",
              " '\\t\\tatgcaattttttagttgcatgaactcgcatgtctccatagaatgcgcgctacttgat',\n",
              " '\\tccttgaaaaagaggttgacgctgcaaggctctatacgcataatgcgccccgcaacgc',\n",
              " '\\t\\ttcgttgtatatttcttgacaccttttcggcatcgccctaaaattcggcgtcctcata',\n",
              " '\\t\\tccgtttattttttctacccatatccttgaagcggtgttataatgccgcgccctcgat',\n",
              " '\\t\\tttcgcatatttttcttgcaaagttgggttgagctggctagattagccagccaatctt',\n",
              " '\\t\\ttgtaaactaatgcctttacgtgggcggtgattttgtctacaatcttacccccacgta',\n",
              " '\\tgatcgcacgatctgtatacttatttgagtaaattaacccacgatcccagccattctt',\n",
              " '\\t\\taacgcatacggtattttaccttcccagtcaagaaaacttatcttattcccacttttc',\n",
              " '\\tttagcggatcctacctgacgctttttatcgcaactctctactgtttctccatacccg',\n",
              " '\\t\\tgccttctccaaaacgtgttttttgttgttaattcggtgtagacttgtaaacctaaat',\n",
              " '\\tcagaaacgttttattcgaacatcgatctcgtcttgtgttagaattctaacatacggt',\n",
              " '\\tcactaatttattccatgtcacacttttcgcatctttgttatgctatggttatttcat',\n",
              " '\\t\\tatataaaaaagttcttgctttctaacgtgaaagtggtttaggttaaaagacatcagt',\n",
              " '\\t\\tcaaggtagaatgctttgccttgtcggcctgattaatggcacgatagtcgcatcggat',\n",
              " '\\tggccaaaaaatatcttgtactatttacaaaacctatggtaactctttaggcattcct',\n",
              " '\\ttaggcaccccaggctttacactttatgcttccggctcgtatgttgtgtggaattgtg',\n",
              " '\\t\\tccatcaaaaaaatattctcaacataaaaaactttgtgtaatacttgtaacgctacat',\n",
              " '\\t\\ttggggacgtcgttactgatccgcacgtttatgatatgctatcgtactctttagcgag',\n",
              " '\\ttcagaaatattatggtgatgaactgtttttttatccagtataatttgttggcataat',\n",
              " '\\t\\tatatgaacgttgagactgccgctgagttatcagctgtgaacgacattctggcgtcta',\n",
              " '\\t\\tcgaacgagtcaatcagaccgctttgactctggtattactgtgaacattattcgtctc',\n",
              " '\\t\\tcaatggcctctaaacgggtcttgaggggttttttgctgaaaggaggaactatatgcg',\n",
              " '\\t\\tttgacctactacgccagcattttggcggtgtaagctaaccattccggttgactcaat',\n",
              " '\\t\\tcgtctatcggtgaacctccggtatcaacgctggaaggtgacgctaacgcagatgcag',\n",
              " '\\t\\tgccaatcaatcaagaacttgaagggtggtatcagccaacagcctgacatccttcgtt',\n",
              " '\\t\\ttggatggacgttcaacattgaggaaggcataacgctactacctgatgtttactccaa',\n",
              " '\\t\\tgaggtggctatgtgtatgaccgaacgagtcaatcagaccgctttgactctggtatta',\n",
              " '\\t\\tcgtagcgcatcagtgctttcttactgtgagtacgcaccagcgccagaggacgacgac',\n",
              " '\\t\\tcgaccgaagcgagcctcgtcctcaatggcctctaaacgggtcttgaggggttttttg',\n",
              " '\\t\\tctacggtgggtacaatatgctggatggagatgcgttcacttctggtctactgactcg',\n",
              " '\\t\\tatagtctcagagtcttgacctactacgccagcattttggcggtgtaagctaaccatt',\n",
              " '\\t\\taactcaaggctgatacggcgagacttgcgagccttgtccttgcggtacacagcagcg',\n",
              " '\\t\\tttactgtgaacattattcgtctccgcgactacgatgagatgcctgagtgcttccgtt',\n",
              " '\\t\\ttattctcaacaagattaaccgacagattcaatctcgtggatggacgttcaacattga',\n",
              " '\\t\\taacgagtcaatcagaccgctttgactctggtattactgtgaacattattcgtctccg',\n",
              " '\\t\\taagtgcttagcttcaaggtcacggatacgaccgaagcgagcctcgtcctcaatggcc',\n",
              " '\\t\\tgaagaccacgcctcgccaccgagtagacccttagagagcatgtcagcctcgacaact',\n",
              " '\\t\\tttagagagcatgtcagcctcgacaacttgcataaatgctttcttgtagacgtgccct',\n",
              " '\\t\\ttattcgtctccgcgactacgatgagatgcctgagtgcttccgttactggattgtcac',\n",
              " '\\t\\ttgctgaaaggaggaactatatgcgctcatacgatatgaacgttgagactgccgctga',\n",
              " '\\t\\tcatgaactcaaggctgatacggcgagacttgcgagccttgtccttgcggtacacagc',\n",
              " '\\t\\tttcgtctccgcgactacgatgagatgcctgagtgcttccgttactggattgtcacca',\n",
              " '\\t\\tcatgtcagcctcgacaacttgcataaatgctttcttgtagacgtgccctacgcgctt',\n",
              " '\\t\\taggaggaactacgcaaggttggaacatcggagagatgccagccagcgcacctgcacg',\n",
              " '\\t\\ttctcaacaagattaaccgacagattcaatctcgtggatggacgttcaacattgagga',\n",
              " '\\t\\ttgaagtgcttagcttcaaggtcacggatacgaccgaagcgagcctcgtcctcaatgg',\n",
              " '\\t\\tctatatgcgctcatacgatatgaacgttgagactgccgctgagttatcagctgtgaa',\n",
              " '\\t\\tgcggcagcacgtttccacgcggtgagagcctcaggattcatgtcgatgtcttccggt',\n",
              " '\\t\\tatccctaatgtctacttccggtcaatccatctacgttaaccgaggtggctatgtgta',\n",
              " '\\t\\ttggcgtctatcggtgaacctccggtatcaacgctggaaggtgacgctaacgcagatg',\n",
              " '\\t\\ttctcgtggatggacgttcaacattgaggaaggcataacgctactacctgatgtttac',\n",
              " '\\t\\ttattggcttgctcaagcatgaactcaaggctgatacggcgagacttgcgagccttgt',\n",
              " '\\t\\ttagagggtgtactccaagaagaggaagatgaggctagacgtctctgcatggagtatg',\n",
              " '\\t\\tcagcggcagcacgtttccacgcggtgagagcctcaggattcatgtcgatgtcttccg',\n",
              " '\\t\\tttacgttggcgaccgctaggactttcttgttgattttccatgcggtgttttgcgcaa',\n",
              " '\\t\\tacgctaacgcagatgcagcgaacgctcggcgtattctcaacaagattaaccgacaga',\n",
              " '\\t\\tggtgttttgcgcaatgttaatcgctttgtacacctcaggcatgtaaacgtcttcgta',\n",
              " '\\t\\taaccattccggttgactcaatgagcatctcgatgcagcgtactcctacatgaataga',\n",
              " '\\t\\tagacgtctctgcatggagtatgagatggactacggtgggtacaatatgctggatgga',\n",
              " '\\t\\ttgttgattttccatgcggtgttttgcgcaatgttaatcgctttgtacacctcaggca',\n",
              " '\\t\\ttgcacgggttgcgatagcctcagcgtattcaggtgcgagttcgatagtctcagagtc',\n",
              " '\\t\\taggcatgtaaacgtcttcgtagcgcatcagtgctttcttactgtgagtacgcaccag',\n",
              " '\\t\\tccgagtagacccttagagagcatgtcagcctcgacaacttgcataaatgctttcttg',\n",
              " '\\t\\tcgctaggactttcttgttgattttccatgcggtgttttgcgcaatgttaatcgcttt',\n",
              " '\\t\\ttatgaccgaacgagtcaatcagaccgctttgactctggtattactgtgaacattatt',\n",
              " '\\t\\tagagggtgtactccaagaagaggaagatgaggctagacgtctctgcatggagtatga',\n",
              " '\\t\\tgagagcatgtcagcctcgacaacttgcataaatgctttcttgtagacgtgccctacg',\n",
              " '\\t\\tcctcaatggcctctaaacgggtcttgaggggttttttgctgaaaggaggaactatat',\n",
              " '\\t\\tgtattctcaacaagattaaccgacagattcaatctcgtggatggacgttcaacattg',\n",
              " '\\t\\tcgcgactacgatgagatgcctgagtgcttccgttactggattgtcaccaaggcttcc',\n",
              " '\\t\\tctcgtcctcaatggcctctaaacgggtcttgaggggttttttgctgaaaggaggaac',\n",
              " '\\t\\ttaacattaataaataaggaggctctaatggcactcattagccaatcaatcaagaact']"
            ]
          },
          "metadata": {},
          "execution_count": 6
        }
      ]
    },
    {
      "cell_type": "code",
      "metadata": {
        "id": "nCgoc-t9GDf-"
      },
      "source": [
        "#Remove tab from each sequence\n",
        "dic = {}\n",
        "for k, seq in enumerate(sequence):\n",
        "    nucleotides = list(seq)\n",
        "    nucleotides = [char for char in nucleotides if char != '\\t']\n",
        "    #append class assignment\n",
        "    nucleotides.append(clases[k])\n",
        "    \n",
        "    dic[k] = nucleotides\n",
        " \n",
        "\n"
      ],
      "execution_count": 7,
      "outputs": []
    },
    {
      "cell_type": "code",
      "metadata": {
        "id": "gCB1IaeWLnF8",
        "colab": {
          "base_uri": "https://localhost:8080/"
        },
        "outputId": "aa3ccb1d-26c8-4089-d8c7-305177a6c634"
      },
      "source": [
        "dic[1]"
      ],
      "execution_count": 8,
      "outputs": [
        {
          "output_type": "execute_result",
          "data": {
            "text/plain": [
              "['t',\n",
              " 'g',\n",
              " 'c',\n",
              " 't',\n",
              " 'a',\n",
              " 't',\n",
              " 'c',\n",
              " 'c',\n",
              " 't',\n",
              " 'g',\n",
              " 'a',\n",
              " 'c',\n",
              " 'a',\n",
              " 'g',\n",
              " 't',\n",
              " 't',\n",
              " 'g',\n",
              " 't',\n",
              " 'c',\n",
              " 'a',\n",
              " 'c',\n",
              " 'g',\n",
              " 'c',\n",
              " 't',\n",
              " 'g',\n",
              " 'a',\n",
              " 't',\n",
              " 't',\n",
              " 'g',\n",
              " 'g',\n",
              " 't',\n",
              " 'g',\n",
              " 't',\n",
              " 'c',\n",
              " 'g',\n",
              " 't',\n",
              " 't',\n",
              " 'a',\n",
              " 'c',\n",
              " 'a',\n",
              " 'a',\n",
              " 't',\n",
              " 'c',\n",
              " 't',\n",
              " 'a',\n",
              " 'a',\n",
              " 'c',\n",
              " 'g',\n",
              " 'c',\n",
              " 'a',\n",
              " 't',\n",
              " 'c',\n",
              " 'g',\n",
              " 'c',\n",
              " 'c',\n",
              " 'a',\n",
              " 'a',\n",
              " '+']"
            ]
          },
          "metadata": {},
          "execution_count": 8
        }
      ]
    },
    {
      "cell_type": "code",
      "metadata": {
        "id": "ZfTsuVXpLoet",
        "colab": {
          "base_uri": "https://localhost:8080/"
        },
        "outputId": "4fb147a9-1e61-4dbf-df35-3bef5a7dd06e"
      },
      "source": [
        "# Convert Dict  into a  dataframe\n",
        "data = pd.DataFrame(dic)\n",
        "data.shape\n"
      ],
      "execution_count": 9,
      "outputs": [
        {
          "output_type": "execute_result",
          "data": {
            "text/plain": [
              "(58, 106)"
            ]
          },
          "metadata": {},
          "execution_count": 9
        }
      ]
    },
    {
      "cell_type": "code",
      "metadata": {
        "id": "xamYH2RpLz7o",
        "colab": {
          "base_uri": "https://localhost:8080/"
        },
        "outputId": "75279f47-0754-4e41-e02b-446141a6a07d"
      },
      "source": [
        "# transpose dataframe into correct format\n",
        "data = data.transpose()\n",
        "data.shape"
      ],
      "execution_count": 10,
      "outputs": [
        {
          "output_type": "execute_result",
          "data": {
            "text/plain": [
              "(106, 58)"
            ]
          },
          "metadata": {},
          "execution_count": 10
        }
      ]
    },
    {
      "cell_type": "code",
      "metadata": {
        "id": "HRdKkMf5L9Vx",
        "colab": {
          "base_uri": "https://localhost:8080/",
          "height": 226
        },
        "outputId": "6c4be402-902f-4eb6-9c5a-f222a1990790"
      },
      "source": [
        "data.head()"
      ],
      "execution_count": null,
      "outputs": [
        {
          "output_type": "execute_result",
          "data": {
            "text/html": [
              "<div>\n",
              "<style scoped>\n",
              "    .dataframe tbody tr th:only-of-type {\n",
              "        vertical-align: middle;\n",
              "    }\n",
              "\n",
              "    .dataframe tbody tr th {\n",
              "        vertical-align: top;\n",
              "    }\n",
              "\n",
              "    .dataframe thead th {\n",
              "        text-align: right;\n",
              "    }\n",
              "</style>\n",
              "<table border=\"1\" class=\"dataframe\">\n",
              "  <thead>\n",
              "    <tr style=\"text-align: right;\">\n",
              "      <th></th>\n",
              "      <th>0</th>\n",
              "      <th>1</th>\n",
              "      <th>2</th>\n",
              "      <th>3</th>\n",
              "      <th>4</th>\n",
              "      <th>5</th>\n",
              "      <th>6</th>\n",
              "      <th>7</th>\n",
              "      <th>8</th>\n",
              "      <th>9</th>\n",
              "      <th>10</th>\n",
              "      <th>11</th>\n",
              "      <th>12</th>\n",
              "      <th>13</th>\n",
              "      <th>14</th>\n",
              "      <th>15</th>\n",
              "      <th>16</th>\n",
              "      <th>17</th>\n",
              "      <th>18</th>\n",
              "      <th>19</th>\n",
              "      <th>20</th>\n",
              "      <th>21</th>\n",
              "      <th>22</th>\n",
              "      <th>23</th>\n",
              "      <th>24</th>\n",
              "      <th>25</th>\n",
              "      <th>26</th>\n",
              "      <th>27</th>\n",
              "      <th>28</th>\n",
              "      <th>29</th>\n",
              "      <th>30</th>\n",
              "      <th>31</th>\n",
              "      <th>32</th>\n",
              "      <th>33</th>\n",
              "      <th>34</th>\n",
              "      <th>35</th>\n",
              "      <th>36</th>\n",
              "      <th>37</th>\n",
              "      <th>38</th>\n",
              "      <th>39</th>\n",
              "      <th>40</th>\n",
              "      <th>41</th>\n",
              "      <th>42</th>\n",
              "      <th>43</th>\n",
              "      <th>44</th>\n",
              "      <th>45</th>\n",
              "      <th>46</th>\n",
              "      <th>47</th>\n",
              "      <th>48</th>\n",
              "      <th>49</th>\n",
              "      <th>50</th>\n",
              "      <th>51</th>\n",
              "      <th>52</th>\n",
              "      <th>53</th>\n",
              "      <th>54</th>\n",
              "      <th>55</th>\n",
              "      <th>56</th>\n",
              "      <th>57</th>\n",
              "    </tr>\n",
              "  </thead>\n",
              "  <tbody>\n",
              "    <tr>\n",
              "      <th>0</th>\n",
              "      <td>t</td>\n",
              "      <td>a</td>\n",
              "      <td>c</td>\n",
              "      <td>t</td>\n",
              "      <td>a</td>\n",
              "      <td>g</td>\n",
              "      <td>c</td>\n",
              "      <td>a</td>\n",
              "      <td>a</td>\n",
              "      <td>t</td>\n",
              "      <td>a</td>\n",
              "      <td>c</td>\n",
              "      <td>g</td>\n",
              "      <td>c</td>\n",
              "      <td>t</td>\n",
              "      <td>t</td>\n",
              "      <td>g</td>\n",
              "      <td>c</td>\n",
              "      <td>g</td>\n",
              "      <td>t</td>\n",
              "      <td>t</td>\n",
              "      <td>c</td>\n",
              "      <td>g</td>\n",
              "      <td>g</td>\n",
              "      <td>t</td>\n",
              "      <td>g</td>\n",
              "      <td>g</td>\n",
              "      <td>t</td>\n",
              "      <td>t</td>\n",
              "      <td>a</td>\n",
              "      <td>a</td>\n",
              "      <td>g</td>\n",
              "      <td>t</td>\n",
              "      <td>a</td>\n",
              "      <td>t</td>\n",
              "      <td>g</td>\n",
              "      <td>t</td>\n",
              "      <td>a</td>\n",
              "      <td>t</td>\n",
              "      <td>a</td>\n",
              "      <td>a</td>\n",
              "      <td>t</td>\n",
              "      <td>g</td>\n",
              "      <td>c</td>\n",
              "      <td>g</td>\n",
              "      <td>c</td>\n",
              "      <td>g</td>\n",
              "      <td>g</td>\n",
              "      <td>g</td>\n",
              "      <td>c</td>\n",
              "      <td>t</td>\n",
              "      <td>t</td>\n",
              "      <td>g</td>\n",
              "      <td>t</td>\n",
              "      <td>c</td>\n",
              "      <td>g</td>\n",
              "      <td>t</td>\n",
              "      <td>+</td>\n",
              "    </tr>\n",
              "    <tr>\n",
              "      <th>1</th>\n",
              "      <td>t</td>\n",
              "      <td>g</td>\n",
              "      <td>c</td>\n",
              "      <td>t</td>\n",
              "      <td>a</td>\n",
              "      <td>t</td>\n",
              "      <td>c</td>\n",
              "      <td>c</td>\n",
              "      <td>t</td>\n",
              "      <td>g</td>\n",
              "      <td>a</td>\n",
              "      <td>c</td>\n",
              "      <td>a</td>\n",
              "      <td>g</td>\n",
              "      <td>t</td>\n",
              "      <td>t</td>\n",
              "      <td>g</td>\n",
              "      <td>t</td>\n",
              "      <td>c</td>\n",
              "      <td>a</td>\n",
              "      <td>c</td>\n",
              "      <td>g</td>\n",
              "      <td>c</td>\n",
              "      <td>t</td>\n",
              "      <td>g</td>\n",
              "      <td>a</td>\n",
              "      <td>t</td>\n",
              "      <td>t</td>\n",
              "      <td>g</td>\n",
              "      <td>g</td>\n",
              "      <td>t</td>\n",
              "      <td>g</td>\n",
              "      <td>t</td>\n",
              "      <td>c</td>\n",
              "      <td>g</td>\n",
              "      <td>t</td>\n",
              "      <td>t</td>\n",
              "      <td>a</td>\n",
              "      <td>c</td>\n",
              "      <td>a</td>\n",
              "      <td>a</td>\n",
              "      <td>t</td>\n",
              "      <td>c</td>\n",
              "      <td>t</td>\n",
              "      <td>a</td>\n",
              "      <td>a</td>\n",
              "      <td>c</td>\n",
              "      <td>g</td>\n",
              "      <td>c</td>\n",
              "      <td>a</td>\n",
              "      <td>t</td>\n",
              "      <td>c</td>\n",
              "      <td>g</td>\n",
              "      <td>c</td>\n",
              "      <td>c</td>\n",
              "      <td>a</td>\n",
              "      <td>a</td>\n",
              "      <td>+</td>\n",
              "    </tr>\n",
              "    <tr>\n",
              "      <th>2</th>\n",
              "      <td>g</td>\n",
              "      <td>t</td>\n",
              "      <td>a</td>\n",
              "      <td>c</td>\n",
              "      <td>t</td>\n",
              "      <td>a</td>\n",
              "      <td>g</td>\n",
              "      <td>a</td>\n",
              "      <td>g</td>\n",
              "      <td>a</td>\n",
              "      <td>a</td>\n",
              "      <td>c</td>\n",
              "      <td>t</td>\n",
              "      <td>a</td>\n",
              "      <td>g</td>\n",
              "      <td>t</td>\n",
              "      <td>g</td>\n",
              "      <td>c</td>\n",
              "      <td>a</td>\n",
              "      <td>t</td>\n",
              "      <td>t</td>\n",
              "      <td>a</td>\n",
              "      <td>g</td>\n",
              "      <td>c</td>\n",
              "      <td>t</td>\n",
              "      <td>t</td>\n",
              "      <td>a</td>\n",
              "      <td>t</td>\n",
              "      <td>t</td>\n",
              "      <td>t</td>\n",
              "      <td>t</td>\n",
              "      <td>t</td>\n",
              "      <td>t</td>\n",
              "      <td>t</td>\n",
              "      <td>g</td>\n",
              "      <td>t</td>\n",
              "      <td>t</td>\n",
              "      <td>a</td>\n",
              "      <td>t</td>\n",
              "      <td>c</td>\n",
              "      <td>a</td>\n",
              "      <td>t</td>\n",
              "      <td>g</td>\n",
              "      <td>c</td>\n",
              "      <td>t</td>\n",
              "      <td>a</td>\n",
              "      <td>a</td>\n",
              "      <td>c</td>\n",
              "      <td>c</td>\n",
              "      <td>a</td>\n",
              "      <td>c</td>\n",
              "      <td>c</td>\n",
              "      <td>c</td>\n",
              "      <td>g</td>\n",
              "      <td>g</td>\n",
              "      <td>c</td>\n",
              "      <td>g</td>\n",
              "      <td>+</td>\n",
              "    </tr>\n",
              "    <tr>\n",
              "      <th>3</th>\n",
              "      <td>a</td>\n",
              "      <td>a</td>\n",
              "      <td>t</td>\n",
              "      <td>t</td>\n",
              "      <td>g</td>\n",
              "      <td>t</td>\n",
              "      <td>g</td>\n",
              "      <td>a</td>\n",
              "      <td>t</td>\n",
              "      <td>g</td>\n",
              "      <td>t</td>\n",
              "      <td>g</td>\n",
              "      <td>t</td>\n",
              "      <td>a</td>\n",
              "      <td>t</td>\n",
              "      <td>c</td>\n",
              "      <td>g</td>\n",
              "      <td>a</td>\n",
              "      <td>a</td>\n",
              "      <td>g</td>\n",
              "      <td>t</td>\n",
              "      <td>g</td>\n",
              "      <td>t</td>\n",
              "      <td>g</td>\n",
              "      <td>t</td>\n",
              "      <td>t</td>\n",
              "      <td>g</td>\n",
              "      <td>c</td>\n",
              "      <td>g</td>\n",
              "      <td>g</td>\n",
              "      <td>a</td>\n",
              "      <td>g</td>\n",
              "      <td>t</td>\n",
              "      <td>a</td>\n",
              "      <td>g</td>\n",
              "      <td>a</td>\n",
              "      <td>t</td>\n",
              "      <td>g</td>\n",
              "      <td>t</td>\n",
              "      <td>t</td>\n",
              "      <td>a</td>\n",
              "      <td>g</td>\n",
              "      <td>a</td>\n",
              "      <td>a</td>\n",
              "      <td>t</td>\n",
              "      <td>a</td>\n",
              "      <td>c</td>\n",
              "      <td>t</td>\n",
              "      <td>a</td>\n",
              "      <td>a</td>\n",
              "      <td>c</td>\n",
              "      <td>a</td>\n",
              "      <td>a</td>\n",
              "      <td>a</td>\n",
              "      <td>c</td>\n",
              "      <td>t</td>\n",
              "      <td>c</td>\n",
              "      <td>+</td>\n",
              "    </tr>\n",
              "    <tr>\n",
              "      <th>4</th>\n",
              "      <td>t</td>\n",
              "      <td>c</td>\n",
              "      <td>g</td>\n",
              "      <td>a</td>\n",
              "      <td>t</td>\n",
              "      <td>a</td>\n",
              "      <td>a</td>\n",
              "      <td>t</td>\n",
              "      <td>t</td>\n",
              "      <td>a</td>\n",
              "      <td>a</td>\n",
              "      <td>c</td>\n",
              "      <td>t</td>\n",
              "      <td>a</td>\n",
              "      <td>t</td>\n",
              "      <td>t</td>\n",
              "      <td>g</td>\n",
              "      <td>a</td>\n",
              "      <td>c</td>\n",
              "      <td>g</td>\n",
              "      <td>a</td>\n",
              "      <td>a</td>\n",
              "      <td>a</td>\n",
              "      <td>a</td>\n",
              "      <td>g</td>\n",
              "      <td>c</td>\n",
              "      <td>t</td>\n",
              "      <td>g</td>\n",
              "      <td>a</td>\n",
              "      <td>a</td>\n",
              "      <td>a</td>\n",
              "      <td>a</td>\n",
              "      <td>c</td>\n",
              "      <td>c</td>\n",
              "      <td>a</td>\n",
              "      <td>c</td>\n",
              "      <td>t</td>\n",
              "      <td>a</td>\n",
              "      <td>g</td>\n",
              "      <td>a</td>\n",
              "      <td>a</td>\n",
              "      <td>t</td>\n",
              "      <td>g</td>\n",
              "      <td>c</td>\n",
              "      <td>g</td>\n",
              "      <td>c</td>\n",
              "      <td>c</td>\n",
              "      <td>t</td>\n",
              "      <td>c</td>\n",
              "      <td>c</td>\n",
              "      <td>g</td>\n",
              "      <td>t</td>\n",
              "      <td>g</td>\n",
              "      <td>g</td>\n",
              "      <td>t</td>\n",
              "      <td>a</td>\n",
              "      <td>g</td>\n",
              "      <td>+</td>\n",
              "    </tr>\n",
              "  </tbody>\n",
              "</table>\n",
              "</div>"
            ],
            "text/plain": [
              "  0  1  2  3  4  5  6  7  8  9  10 11 12  ... 45 46 47 48 49 50 51 52 53 54 55 56 57\n",
              "0  t  a  c  t  a  g  c  a  a  t  a  c  g  ...  c  g  g  g  c  t  t  g  t  c  g  t  +\n",
              "1  t  g  c  t  a  t  c  c  t  g  a  c  a  ...  a  c  g  c  a  t  c  g  c  c  a  a  +\n",
              "2  g  t  a  c  t  a  g  a  g  a  a  c  t  ...  a  a  c  c  a  c  c  c  g  g  c  g  +\n",
              "3  a  a  t  t  g  t  g  a  t  g  t  g  t  ...  a  c  t  a  a  c  a  a  a  c  t  c  +\n",
              "4  t  c  g  a  t  a  a  t  t  a  a  c  t  ...  c  c  t  c  c  g  t  g  g  t  a  g  +\n",
              "\n",
              "[5 rows x 58 columns]"
            ]
          },
          "metadata": {},
          "execution_count": 50
        }
      ]
    },
    {
      "cell_type": "code",
      "metadata": {
        "id": "uJJ9mnrmNIok"
      },
      "source": [
        "# Rename\n",
        "data.rename(columns = {57:'Class'}, inplace = True)"
      ],
      "execution_count": 11,
      "outputs": []
    },
    {
      "cell_type": "code",
      "metadata": {
        "id": "NgI6OUtPNYHo",
        "colab": {
          "base_uri": "https://localhost:8080/"
        },
        "outputId": "fc8189c9-7611-4527-b5f0-5ff7e757bf34"
      },
      "source": [
        "data['Class']"
      ],
      "execution_count": 12,
      "outputs": [
        {
          "output_type": "execute_result",
          "data": {
            "text/plain": [
              "0      +\n",
              "1      +\n",
              "2      +\n",
              "3      +\n",
              "4      +\n",
              "      ..\n",
              "101    -\n",
              "102    -\n",
              "103    -\n",
              "104    -\n",
              "105    -\n",
              "Name: Class, Length: 106, dtype: object"
            ]
          },
          "metadata": {},
          "execution_count": 12
        }
      ]
    },
    {
      "cell_type": "code",
      "metadata": {
        "id": "QM_xZEdVRFrH",
        "colab": {
          "base_uri": "https://localhost:8080/"
        },
        "outputId": "0983d7a1-7380-4278-eaec-c0c5b9a9cca5"
      },
      "source": [
        "data.columns"
      ],
      "execution_count": 13,
      "outputs": [
        {
          "output_type": "execute_result",
          "data": {
            "text/plain": [
              "Index([      0,       1,       2,       3,       4,       5,       6,       7,\n",
              "             8,       9,      10,      11,      12,      13,      14,      15,\n",
              "            16,      17,      18,      19,      20,      21,      22,      23,\n",
              "            24,      25,      26,      27,      28,      29,      30,      31,\n",
              "            32,      33,      34,      35,      36,      37,      38,      39,\n",
              "            40,      41,      42,      43,      44,      45,      46,      47,\n",
              "            48,      49,      50,      51,      52,      53,      54,      55,\n",
              "            56, 'Class'],\n",
              "      dtype='object')"
            ]
          },
          "metadata": {},
          "execution_count": 13
        }
      ]
    },
    {
      "cell_type": "code",
      "metadata": {
        "id": "UwGiWqSkRa-U",
        "colab": {
          "base_uri": "https://localhost:8080/",
          "height": 226
        },
        "outputId": "cc5d2c60-279c-4f47-d839-cf4482395121"
      },
      "source": [
        "data.head()"
      ],
      "execution_count": 14,
      "outputs": [
        {
          "output_type": "execute_result",
          "data": {
            "text/html": [
              "<div>\n",
              "<style scoped>\n",
              "    .dataframe tbody tr th:only-of-type {\n",
              "        vertical-align: middle;\n",
              "    }\n",
              "\n",
              "    .dataframe tbody tr th {\n",
              "        vertical-align: top;\n",
              "    }\n",
              "\n",
              "    .dataframe thead th {\n",
              "        text-align: right;\n",
              "    }\n",
              "</style>\n",
              "<table border=\"1\" class=\"dataframe\">\n",
              "  <thead>\n",
              "    <tr style=\"text-align: right;\">\n",
              "      <th></th>\n",
              "      <th>0</th>\n",
              "      <th>1</th>\n",
              "      <th>2</th>\n",
              "      <th>3</th>\n",
              "      <th>4</th>\n",
              "      <th>5</th>\n",
              "      <th>6</th>\n",
              "      <th>7</th>\n",
              "      <th>8</th>\n",
              "      <th>9</th>\n",
              "      <th>10</th>\n",
              "      <th>11</th>\n",
              "      <th>12</th>\n",
              "      <th>13</th>\n",
              "      <th>14</th>\n",
              "      <th>15</th>\n",
              "      <th>16</th>\n",
              "      <th>17</th>\n",
              "      <th>18</th>\n",
              "      <th>19</th>\n",
              "      <th>20</th>\n",
              "      <th>21</th>\n",
              "      <th>22</th>\n",
              "      <th>23</th>\n",
              "      <th>24</th>\n",
              "      <th>25</th>\n",
              "      <th>26</th>\n",
              "      <th>27</th>\n",
              "      <th>28</th>\n",
              "      <th>29</th>\n",
              "      <th>30</th>\n",
              "      <th>31</th>\n",
              "      <th>32</th>\n",
              "      <th>33</th>\n",
              "      <th>34</th>\n",
              "      <th>35</th>\n",
              "      <th>36</th>\n",
              "      <th>37</th>\n",
              "      <th>38</th>\n",
              "      <th>39</th>\n",
              "      <th>40</th>\n",
              "      <th>41</th>\n",
              "      <th>42</th>\n",
              "      <th>43</th>\n",
              "      <th>44</th>\n",
              "      <th>45</th>\n",
              "      <th>46</th>\n",
              "      <th>47</th>\n",
              "      <th>48</th>\n",
              "      <th>49</th>\n",
              "      <th>50</th>\n",
              "      <th>51</th>\n",
              "      <th>52</th>\n",
              "      <th>53</th>\n",
              "      <th>54</th>\n",
              "      <th>55</th>\n",
              "      <th>56</th>\n",
              "      <th>Class</th>\n",
              "    </tr>\n",
              "  </thead>\n",
              "  <tbody>\n",
              "    <tr>\n",
              "      <th>0</th>\n",
              "      <td>t</td>\n",
              "      <td>a</td>\n",
              "      <td>c</td>\n",
              "      <td>t</td>\n",
              "      <td>a</td>\n",
              "      <td>g</td>\n",
              "      <td>c</td>\n",
              "      <td>a</td>\n",
              "      <td>a</td>\n",
              "      <td>t</td>\n",
              "      <td>a</td>\n",
              "      <td>c</td>\n",
              "      <td>g</td>\n",
              "      <td>c</td>\n",
              "      <td>t</td>\n",
              "      <td>t</td>\n",
              "      <td>g</td>\n",
              "      <td>c</td>\n",
              "      <td>g</td>\n",
              "      <td>t</td>\n",
              "      <td>t</td>\n",
              "      <td>c</td>\n",
              "      <td>g</td>\n",
              "      <td>g</td>\n",
              "      <td>t</td>\n",
              "      <td>g</td>\n",
              "      <td>g</td>\n",
              "      <td>t</td>\n",
              "      <td>t</td>\n",
              "      <td>a</td>\n",
              "      <td>a</td>\n",
              "      <td>g</td>\n",
              "      <td>t</td>\n",
              "      <td>a</td>\n",
              "      <td>t</td>\n",
              "      <td>g</td>\n",
              "      <td>t</td>\n",
              "      <td>a</td>\n",
              "      <td>t</td>\n",
              "      <td>a</td>\n",
              "      <td>a</td>\n",
              "      <td>t</td>\n",
              "      <td>g</td>\n",
              "      <td>c</td>\n",
              "      <td>g</td>\n",
              "      <td>c</td>\n",
              "      <td>g</td>\n",
              "      <td>g</td>\n",
              "      <td>g</td>\n",
              "      <td>c</td>\n",
              "      <td>t</td>\n",
              "      <td>t</td>\n",
              "      <td>g</td>\n",
              "      <td>t</td>\n",
              "      <td>c</td>\n",
              "      <td>g</td>\n",
              "      <td>t</td>\n",
              "      <td>+</td>\n",
              "    </tr>\n",
              "    <tr>\n",
              "      <th>1</th>\n",
              "      <td>t</td>\n",
              "      <td>g</td>\n",
              "      <td>c</td>\n",
              "      <td>t</td>\n",
              "      <td>a</td>\n",
              "      <td>t</td>\n",
              "      <td>c</td>\n",
              "      <td>c</td>\n",
              "      <td>t</td>\n",
              "      <td>g</td>\n",
              "      <td>a</td>\n",
              "      <td>c</td>\n",
              "      <td>a</td>\n",
              "      <td>g</td>\n",
              "      <td>t</td>\n",
              "      <td>t</td>\n",
              "      <td>g</td>\n",
              "      <td>t</td>\n",
              "      <td>c</td>\n",
              "      <td>a</td>\n",
              "      <td>c</td>\n",
              "      <td>g</td>\n",
              "      <td>c</td>\n",
              "      <td>t</td>\n",
              "      <td>g</td>\n",
              "      <td>a</td>\n",
              "      <td>t</td>\n",
              "      <td>t</td>\n",
              "      <td>g</td>\n",
              "      <td>g</td>\n",
              "      <td>t</td>\n",
              "      <td>g</td>\n",
              "      <td>t</td>\n",
              "      <td>c</td>\n",
              "      <td>g</td>\n",
              "      <td>t</td>\n",
              "      <td>t</td>\n",
              "      <td>a</td>\n",
              "      <td>c</td>\n",
              "      <td>a</td>\n",
              "      <td>a</td>\n",
              "      <td>t</td>\n",
              "      <td>c</td>\n",
              "      <td>t</td>\n",
              "      <td>a</td>\n",
              "      <td>a</td>\n",
              "      <td>c</td>\n",
              "      <td>g</td>\n",
              "      <td>c</td>\n",
              "      <td>a</td>\n",
              "      <td>t</td>\n",
              "      <td>c</td>\n",
              "      <td>g</td>\n",
              "      <td>c</td>\n",
              "      <td>c</td>\n",
              "      <td>a</td>\n",
              "      <td>a</td>\n",
              "      <td>+</td>\n",
              "    </tr>\n",
              "    <tr>\n",
              "      <th>2</th>\n",
              "      <td>g</td>\n",
              "      <td>t</td>\n",
              "      <td>a</td>\n",
              "      <td>c</td>\n",
              "      <td>t</td>\n",
              "      <td>a</td>\n",
              "      <td>g</td>\n",
              "      <td>a</td>\n",
              "      <td>g</td>\n",
              "      <td>a</td>\n",
              "      <td>a</td>\n",
              "      <td>c</td>\n",
              "      <td>t</td>\n",
              "      <td>a</td>\n",
              "      <td>g</td>\n",
              "      <td>t</td>\n",
              "      <td>g</td>\n",
              "      <td>c</td>\n",
              "      <td>a</td>\n",
              "      <td>t</td>\n",
              "      <td>t</td>\n",
              "      <td>a</td>\n",
              "      <td>g</td>\n",
              "      <td>c</td>\n",
              "      <td>t</td>\n",
              "      <td>t</td>\n",
              "      <td>a</td>\n",
              "      <td>t</td>\n",
              "      <td>t</td>\n",
              "      <td>t</td>\n",
              "      <td>t</td>\n",
              "      <td>t</td>\n",
              "      <td>t</td>\n",
              "      <td>t</td>\n",
              "      <td>g</td>\n",
              "      <td>t</td>\n",
              "      <td>t</td>\n",
              "      <td>a</td>\n",
              "      <td>t</td>\n",
              "      <td>c</td>\n",
              "      <td>a</td>\n",
              "      <td>t</td>\n",
              "      <td>g</td>\n",
              "      <td>c</td>\n",
              "      <td>t</td>\n",
              "      <td>a</td>\n",
              "      <td>a</td>\n",
              "      <td>c</td>\n",
              "      <td>c</td>\n",
              "      <td>a</td>\n",
              "      <td>c</td>\n",
              "      <td>c</td>\n",
              "      <td>c</td>\n",
              "      <td>g</td>\n",
              "      <td>g</td>\n",
              "      <td>c</td>\n",
              "      <td>g</td>\n",
              "      <td>+</td>\n",
              "    </tr>\n",
              "    <tr>\n",
              "      <th>3</th>\n",
              "      <td>a</td>\n",
              "      <td>a</td>\n",
              "      <td>t</td>\n",
              "      <td>t</td>\n",
              "      <td>g</td>\n",
              "      <td>t</td>\n",
              "      <td>g</td>\n",
              "      <td>a</td>\n",
              "      <td>t</td>\n",
              "      <td>g</td>\n",
              "      <td>t</td>\n",
              "      <td>g</td>\n",
              "      <td>t</td>\n",
              "      <td>a</td>\n",
              "      <td>t</td>\n",
              "      <td>c</td>\n",
              "      <td>g</td>\n",
              "      <td>a</td>\n",
              "      <td>a</td>\n",
              "      <td>g</td>\n",
              "      <td>t</td>\n",
              "      <td>g</td>\n",
              "      <td>t</td>\n",
              "      <td>g</td>\n",
              "      <td>t</td>\n",
              "      <td>t</td>\n",
              "      <td>g</td>\n",
              "      <td>c</td>\n",
              "      <td>g</td>\n",
              "      <td>g</td>\n",
              "      <td>a</td>\n",
              "      <td>g</td>\n",
              "      <td>t</td>\n",
              "      <td>a</td>\n",
              "      <td>g</td>\n",
              "      <td>a</td>\n",
              "      <td>t</td>\n",
              "      <td>g</td>\n",
              "      <td>t</td>\n",
              "      <td>t</td>\n",
              "      <td>a</td>\n",
              "      <td>g</td>\n",
              "      <td>a</td>\n",
              "      <td>a</td>\n",
              "      <td>t</td>\n",
              "      <td>a</td>\n",
              "      <td>c</td>\n",
              "      <td>t</td>\n",
              "      <td>a</td>\n",
              "      <td>a</td>\n",
              "      <td>c</td>\n",
              "      <td>a</td>\n",
              "      <td>a</td>\n",
              "      <td>a</td>\n",
              "      <td>c</td>\n",
              "      <td>t</td>\n",
              "      <td>c</td>\n",
              "      <td>+</td>\n",
              "    </tr>\n",
              "    <tr>\n",
              "      <th>4</th>\n",
              "      <td>t</td>\n",
              "      <td>c</td>\n",
              "      <td>g</td>\n",
              "      <td>a</td>\n",
              "      <td>t</td>\n",
              "      <td>a</td>\n",
              "      <td>a</td>\n",
              "      <td>t</td>\n",
              "      <td>t</td>\n",
              "      <td>a</td>\n",
              "      <td>a</td>\n",
              "      <td>c</td>\n",
              "      <td>t</td>\n",
              "      <td>a</td>\n",
              "      <td>t</td>\n",
              "      <td>t</td>\n",
              "      <td>g</td>\n",
              "      <td>a</td>\n",
              "      <td>c</td>\n",
              "      <td>g</td>\n",
              "      <td>a</td>\n",
              "      <td>a</td>\n",
              "      <td>a</td>\n",
              "      <td>a</td>\n",
              "      <td>g</td>\n",
              "      <td>c</td>\n",
              "      <td>t</td>\n",
              "      <td>g</td>\n",
              "      <td>a</td>\n",
              "      <td>a</td>\n",
              "      <td>a</td>\n",
              "      <td>a</td>\n",
              "      <td>c</td>\n",
              "      <td>c</td>\n",
              "      <td>a</td>\n",
              "      <td>c</td>\n",
              "      <td>t</td>\n",
              "      <td>a</td>\n",
              "      <td>g</td>\n",
              "      <td>a</td>\n",
              "      <td>a</td>\n",
              "      <td>t</td>\n",
              "      <td>g</td>\n",
              "      <td>c</td>\n",
              "      <td>g</td>\n",
              "      <td>c</td>\n",
              "      <td>c</td>\n",
              "      <td>t</td>\n",
              "      <td>c</td>\n",
              "      <td>c</td>\n",
              "      <td>g</td>\n",
              "      <td>t</td>\n",
              "      <td>g</td>\n",
              "      <td>g</td>\n",
              "      <td>t</td>\n",
              "      <td>a</td>\n",
              "      <td>g</td>\n",
              "      <td>+</td>\n",
              "    </tr>\n",
              "  </tbody>\n",
              "</table>\n",
              "</div>"
            ],
            "text/plain": [
              "   0  1  2  3  4  5  6  7  8  9 10 11  ... 46 47 48 49 50 51 52 53 54 55 56 Class\n",
              "0  t  a  c  t  a  g  c  a  a  t  a  c  ...  g  g  g  c  t  t  g  t  c  g  t     +\n",
              "1  t  g  c  t  a  t  c  c  t  g  a  c  ...  c  g  c  a  t  c  g  c  c  a  a     +\n",
              "2  g  t  a  c  t  a  g  a  g  a  a  c  ...  a  c  c  a  c  c  c  g  g  c  g     +\n",
              "3  a  a  t  t  g  t  g  a  t  g  t  g  ...  c  t  a  a  c  a  a  a  c  t  c     +\n",
              "4  t  c  g  a  t  a  a  t  t  a  a  c  ...  c  t  c  c  g  t  g  g  t  a  g     +\n",
              "\n",
              "[5 rows x 58 columns]"
            ]
          },
          "metadata": {},
          "execution_count": 14
        }
      ]
    },
    {
      "cell_type": "code",
      "metadata": {
        "id": "j0SqhTnVReIL",
        "colab": {
          "base_uri": "https://localhost:8080/",
          "height": 256
        },
        "outputId": "0ae97158-69cf-4227-eb90-1f223a80940a"
      },
      "source": [
        "#Encoding\n",
        "numerical_df = pd.get_dummies(data)\n",
        "numerical_df.head()\n"
      ],
      "execution_count": 15,
      "outputs": [
        {
          "output_type": "execute_result",
          "data": {
            "text/html": [
              "<div>\n",
              "<style scoped>\n",
              "    .dataframe tbody tr th:only-of-type {\n",
              "        vertical-align: middle;\n",
              "    }\n",
              "\n",
              "    .dataframe tbody tr th {\n",
              "        vertical-align: top;\n",
              "    }\n",
              "\n",
              "    .dataframe thead th {\n",
              "        text-align: right;\n",
              "    }\n",
              "</style>\n",
              "<table border=\"1\" class=\"dataframe\">\n",
              "  <thead>\n",
              "    <tr style=\"text-align: right;\">\n",
              "      <th></th>\n",
              "      <th>0_a</th>\n",
              "      <th>0_c</th>\n",
              "      <th>0_g</th>\n",
              "      <th>0_t</th>\n",
              "      <th>1_a</th>\n",
              "      <th>1_c</th>\n",
              "      <th>1_g</th>\n",
              "      <th>1_t</th>\n",
              "      <th>2_a</th>\n",
              "      <th>2_c</th>\n",
              "      <th>2_g</th>\n",
              "      <th>2_t</th>\n",
              "      <th>3_a</th>\n",
              "      <th>3_c</th>\n",
              "      <th>3_g</th>\n",
              "      <th>3_t</th>\n",
              "      <th>4_a</th>\n",
              "      <th>4_c</th>\n",
              "      <th>4_g</th>\n",
              "      <th>4_t</th>\n",
              "      <th>5_a</th>\n",
              "      <th>5_c</th>\n",
              "      <th>5_g</th>\n",
              "      <th>5_t</th>\n",
              "      <th>6_a</th>\n",
              "      <th>6_c</th>\n",
              "      <th>6_g</th>\n",
              "      <th>6_t</th>\n",
              "      <th>7_a</th>\n",
              "      <th>7_c</th>\n",
              "      <th>7_g</th>\n",
              "      <th>7_t</th>\n",
              "      <th>8_a</th>\n",
              "      <th>8_c</th>\n",
              "      <th>8_g</th>\n",
              "      <th>8_t</th>\n",
              "      <th>9_a</th>\n",
              "      <th>9_c</th>\n",
              "      <th>9_g</th>\n",
              "      <th>9_t</th>\n",
              "      <th>...</th>\n",
              "      <th>47_g</th>\n",
              "      <th>47_t</th>\n",
              "      <th>48_a</th>\n",
              "      <th>48_c</th>\n",
              "      <th>48_g</th>\n",
              "      <th>48_t</th>\n",
              "      <th>49_a</th>\n",
              "      <th>49_c</th>\n",
              "      <th>49_g</th>\n",
              "      <th>49_t</th>\n",
              "      <th>50_a</th>\n",
              "      <th>50_c</th>\n",
              "      <th>50_g</th>\n",
              "      <th>50_t</th>\n",
              "      <th>51_a</th>\n",
              "      <th>51_c</th>\n",
              "      <th>51_g</th>\n",
              "      <th>51_t</th>\n",
              "      <th>52_a</th>\n",
              "      <th>52_c</th>\n",
              "      <th>52_g</th>\n",
              "      <th>52_t</th>\n",
              "      <th>53_a</th>\n",
              "      <th>53_c</th>\n",
              "      <th>53_g</th>\n",
              "      <th>53_t</th>\n",
              "      <th>54_a</th>\n",
              "      <th>54_c</th>\n",
              "      <th>54_g</th>\n",
              "      <th>54_t</th>\n",
              "      <th>55_a</th>\n",
              "      <th>55_c</th>\n",
              "      <th>55_g</th>\n",
              "      <th>55_t</th>\n",
              "      <th>56_a</th>\n",
              "      <th>56_c</th>\n",
              "      <th>56_g</th>\n",
              "      <th>56_t</th>\n",
              "      <th>Class_+</th>\n",
              "      <th>Class_-</th>\n",
              "    </tr>\n",
              "  </thead>\n",
              "  <tbody>\n",
              "    <tr>\n",
              "      <th>0</th>\n",
              "      <td>0</td>\n",
              "      <td>0</td>\n",
              "      <td>0</td>\n",
              "      <td>1</td>\n",
              "      <td>1</td>\n",
              "      <td>0</td>\n",
              "      <td>0</td>\n",
              "      <td>0</td>\n",
              "      <td>0</td>\n",
              "      <td>1</td>\n",
              "      <td>0</td>\n",
              "      <td>0</td>\n",
              "      <td>0</td>\n",
              "      <td>0</td>\n",
              "      <td>0</td>\n",
              "      <td>1</td>\n",
              "      <td>1</td>\n",
              "      <td>0</td>\n",
              "      <td>0</td>\n",
              "      <td>0</td>\n",
              "      <td>0</td>\n",
              "      <td>0</td>\n",
              "      <td>1</td>\n",
              "      <td>0</td>\n",
              "      <td>0</td>\n",
              "      <td>1</td>\n",
              "      <td>0</td>\n",
              "      <td>0</td>\n",
              "      <td>1</td>\n",
              "      <td>0</td>\n",
              "      <td>0</td>\n",
              "      <td>0</td>\n",
              "      <td>1</td>\n",
              "      <td>0</td>\n",
              "      <td>0</td>\n",
              "      <td>0</td>\n",
              "      <td>0</td>\n",
              "      <td>0</td>\n",
              "      <td>0</td>\n",
              "      <td>1</td>\n",
              "      <td>...</td>\n",
              "      <td>1</td>\n",
              "      <td>0</td>\n",
              "      <td>0</td>\n",
              "      <td>0</td>\n",
              "      <td>1</td>\n",
              "      <td>0</td>\n",
              "      <td>0</td>\n",
              "      <td>1</td>\n",
              "      <td>0</td>\n",
              "      <td>0</td>\n",
              "      <td>0</td>\n",
              "      <td>0</td>\n",
              "      <td>0</td>\n",
              "      <td>1</td>\n",
              "      <td>0</td>\n",
              "      <td>0</td>\n",
              "      <td>0</td>\n",
              "      <td>1</td>\n",
              "      <td>0</td>\n",
              "      <td>0</td>\n",
              "      <td>1</td>\n",
              "      <td>0</td>\n",
              "      <td>0</td>\n",
              "      <td>0</td>\n",
              "      <td>0</td>\n",
              "      <td>1</td>\n",
              "      <td>0</td>\n",
              "      <td>1</td>\n",
              "      <td>0</td>\n",
              "      <td>0</td>\n",
              "      <td>0</td>\n",
              "      <td>0</td>\n",
              "      <td>1</td>\n",
              "      <td>0</td>\n",
              "      <td>0</td>\n",
              "      <td>0</td>\n",
              "      <td>0</td>\n",
              "      <td>1</td>\n",
              "      <td>1</td>\n",
              "      <td>0</td>\n",
              "    </tr>\n",
              "    <tr>\n",
              "      <th>1</th>\n",
              "      <td>0</td>\n",
              "      <td>0</td>\n",
              "      <td>0</td>\n",
              "      <td>1</td>\n",
              "      <td>0</td>\n",
              "      <td>0</td>\n",
              "      <td>1</td>\n",
              "      <td>0</td>\n",
              "      <td>0</td>\n",
              "      <td>1</td>\n",
              "      <td>0</td>\n",
              "      <td>0</td>\n",
              "      <td>0</td>\n",
              "      <td>0</td>\n",
              "      <td>0</td>\n",
              "      <td>1</td>\n",
              "      <td>1</td>\n",
              "      <td>0</td>\n",
              "      <td>0</td>\n",
              "      <td>0</td>\n",
              "      <td>0</td>\n",
              "      <td>0</td>\n",
              "      <td>0</td>\n",
              "      <td>1</td>\n",
              "      <td>0</td>\n",
              "      <td>1</td>\n",
              "      <td>0</td>\n",
              "      <td>0</td>\n",
              "      <td>0</td>\n",
              "      <td>1</td>\n",
              "      <td>0</td>\n",
              "      <td>0</td>\n",
              "      <td>0</td>\n",
              "      <td>0</td>\n",
              "      <td>0</td>\n",
              "      <td>1</td>\n",
              "      <td>0</td>\n",
              "      <td>0</td>\n",
              "      <td>1</td>\n",
              "      <td>0</td>\n",
              "      <td>...</td>\n",
              "      <td>1</td>\n",
              "      <td>0</td>\n",
              "      <td>0</td>\n",
              "      <td>1</td>\n",
              "      <td>0</td>\n",
              "      <td>0</td>\n",
              "      <td>1</td>\n",
              "      <td>0</td>\n",
              "      <td>0</td>\n",
              "      <td>0</td>\n",
              "      <td>0</td>\n",
              "      <td>0</td>\n",
              "      <td>0</td>\n",
              "      <td>1</td>\n",
              "      <td>0</td>\n",
              "      <td>1</td>\n",
              "      <td>0</td>\n",
              "      <td>0</td>\n",
              "      <td>0</td>\n",
              "      <td>0</td>\n",
              "      <td>1</td>\n",
              "      <td>0</td>\n",
              "      <td>0</td>\n",
              "      <td>1</td>\n",
              "      <td>0</td>\n",
              "      <td>0</td>\n",
              "      <td>0</td>\n",
              "      <td>1</td>\n",
              "      <td>0</td>\n",
              "      <td>0</td>\n",
              "      <td>1</td>\n",
              "      <td>0</td>\n",
              "      <td>0</td>\n",
              "      <td>0</td>\n",
              "      <td>1</td>\n",
              "      <td>0</td>\n",
              "      <td>0</td>\n",
              "      <td>0</td>\n",
              "      <td>1</td>\n",
              "      <td>0</td>\n",
              "    </tr>\n",
              "    <tr>\n",
              "      <th>2</th>\n",
              "      <td>0</td>\n",
              "      <td>0</td>\n",
              "      <td>1</td>\n",
              "      <td>0</td>\n",
              "      <td>0</td>\n",
              "      <td>0</td>\n",
              "      <td>0</td>\n",
              "      <td>1</td>\n",
              "      <td>1</td>\n",
              "      <td>0</td>\n",
              "      <td>0</td>\n",
              "      <td>0</td>\n",
              "      <td>0</td>\n",
              "      <td>1</td>\n",
              "      <td>0</td>\n",
              "      <td>0</td>\n",
              "      <td>0</td>\n",
              "      <td>0</td>\n",
              "      <td>0</td>\n",
              "      <td>1</td>\n",
              "      <td>1</td>\n",
              "      <td>0</td>\n",
              "      <td>0</td>\n",
              "      <td>0</td>\n",
              "      <td>0</td>\n",
              "      <td>0</td>\n",
              "      <td>1</td>\n",
              "      <td>0</td>\n",
              "      <td>1</td>\n",
              "      <td>0</td>\n",
              "      <td>0</td>\n",
              "      <td>0</td>\n",
              "      <td>0</td>\n",
              "      <td>0</td>\n",
              "      <td>1</td>\n",
              "      <td>0</td>\n",
              "      <td>1</td>\n",
              "      <td>0</td>\n",
              "      <td>0</td>\n",
              "      <td>0</td>\n",
              "      <td>...</td>\n",
              "      <td>0</td>\n",
              "      <td>0</td>\n",
              "      <td>0</td>\n",
              "      <td>1</td>\n",
              "      <td>0</td>\n",
              "      <td>0</td>\n",
              "      <td>1</td>\n",
              "      <td>0</td>\n",
              "      <td>0</td>\n",
              "      <td>0</td>\n",
              "      <td>0</td>\n",
              "      <td>1</td>\n",
              "      <td>0</td>\n",
              "      <td>0</td>\n",
              "      <td>0</td>\n",
              "      <td>1</td>\n",
              "      <td>0</td>\n",
              "      <td>0</td>\n",
              "      <td>0</td>\n",
              "      <td>1</td>\n",
              "      <td>0</td>\n",
              "      <td>0</td>\n",
              "      <td>0</td>\n",
              "      <td>0</td>\n",
              "      <td>1</td>\n",
              "      <td>0</td>\n",
              "      <td>0</td>\n",
              "      <td>0</td>\n",
              "      <td>1</td>\n",
              "      <td>0</td>\n",
              "      <td>0</td>\n",
              "      <td>1</td>\n",
              "      <td>0</td>\n",
              "      <td>0</td>\n",
              "      <td>0</td>\n",
              "      <td>0</td>\n",
              "      <td>1</td>\n",
              "      <td>0</td>\n",
              "      <td>1</td>\n",
              "      <td>0</td>\n",
              "    </tr>\n",
              "    <tr>\n",
              "      <th>3</th>\n",
              "      <td>1</td>\n",
              "      <td>0</td>\n",
              "      <td>0</td>\n",
              "      <td>0</td>\n",
              "      <td>1</td>\n",
              "      <td>0</td>\n",
              "      <td>0</td>\n",
              "      <td>0</td>\n",
              "      <td>0</td>\n",
              "      <td>0</td>\n",
              "      <td>0</td>\n",
              "      <td>1</td>\n",
              "      <td>0</td>\n",
              "      <td>0</td>\n",
              "      <td>0</td>\n",
              "      <td>1</td>\n",
              "      <td>0</td>\n",
              "      <td>0</td>\n",
              "      <td>1</td>\n",
              "      <td>0</td>\n",
              "      <td>0</td>\n",
              "      <td>0</td>\n",
              "      <td>0</td>\n",
              "      <td>1</td>\n",
              "      <td>0</td>\n",
              "      <td>0</td>\n",
              "      <td>1</td>\n",
              "      <td>0</td>\n",
              "      <td>1</td>\n",
              "      <td>0</td>\n",
              "      <td>0</td>\n",
              "      <td>0</td>\n",
              "      <td>0</td>\n",
              "      <td>0</td>\n",
              "      <td>0</td>\n",
              "      <td>1</td>\n",
              "      <td>0</td>\n",
              "      <td>0</td>\n",
              "      <td>1</td>\n",
              "      <td>0</td>\n",
              "      <td>...</td>\n",
              "      <td>0</td>\n",
              "      <td>1</td>\n",
              "      <td>1</td>\n",
              "      <td>0</td>\n",
              "      <td>0</td>\n",
              "      <td>0</td>\n",
              "      <td>1</td>\n",
              "      <td>0</td>\n",
              "      <td>0</td>\n",
              "      <td>0</td>\n",
              "      <td>0</td>\n",
              "      <td>1</td>\n",
              "      <td>0</td>\n",
              "      <td>0</td>\n",
              "      <td>1</td>\n",
              "      <td>0</td>\n",
              "      <td>0</td>\n",
              "      <td>0</td>\n",
              "      <td>1</td>\n",
              "      <td>0</td>\n",
              "      <td>0</td>\n",
              "      <td>0</td>\n",
              "      <td>1</td>\n",
              "      <td>0</td>\n",
              "      <td>0</td>\n",
              "      <td>0</td>\n",
              "      <td>0</td>\n",
              "      <td>1</td>\n",
              "      <td>0</td>\n",
              "      <td>0</td>\n",
              "      <td>0</td>\n",
              "      <td>0</td>\n",
              "      <td>0</td>\n",
              "      <td>1</td>\n",
              "      <td>0</td>\n",
              "      <td>1</td>\n",
              "      <td>0</td>\n",
              "      <td>0</td>\n",
              "      <td>1</td>\n",
              "      <td>0</td>\n",
              "    </tr>\n",
              "    <tr>\n",
              "      <th>4</th>\n",
              "      <td>0</td>\n",
              "      <td>0</td>\n",
              "      <td>0</td>\n",
              "      <td>1</td>\n",
              "      <td>0</td>\n",
              "      <td>1</td>\n",
              "      <td>0</td>\n",
              "      <td>0</td>\n",
              "      <td>0</td>\n",
              "      <td>0</td>\n",
              "      <td>1</td>\n",
              "      <td>0</td>\n",
              "      <td>1</td>\n",
              "      <td>0</td>\n",
              "      <td>0</td>\n",
              "      <td>0</td>\n",
              "      <td>0</td>\n",
              "      <td>0</td>\n",
              "      <td>0</td>\n",
              "      <td>1</td>\n",
              "      <td>1</td>\n",
              "      <td>0</td>\n",
              "      <td>0</td>\n",
              "      <td>0</td>\n",
              "      <td>1</td>\n",
              "      <td>0</td>\n",
              "      <td>0</td>\n",
              "      <td>0</td>\n",
              "      <td>0</td>\n",
              "      <td>0</td>\n",
              "      <td>0</td>\n",
              "      <td>1</td>\n",
              "      <td>0</td>\n",
              "      <td>0</td>\n",
              "      <td>0</td>\n",
              "      <td>1</td>\n",
              "      <td>1</td>\n",
              "      <td>0</td>\n",
              "      <td>0</td>\n",
              "      <td>0</td>\n",
              "      <td>...</td>\n",
              "      <td>0</td>\n",
              "      <td>1</td>\n",
              "      <td>0</td>\n",
              "      <td>1</td>\n",
              "      <td>0</td>\n",
              "      <td>0</td>\n",
              "      <td>0</td>\n",
              "      <td>1</td>\n",
              "      <td>0</td>\n",
              "      <td>0</td>\n",
              "      <td>0</td>\n",
              "      <td>0</td>\n",
              "      <td>1</td>\n",
              "      <td>0</td>\n",
              "      <td>0</td>\n",
              "      <td>0</td>\n",
              "      <td>0</td>\n",
              "      <td>1</td>\n",
              "      <td>0</td>\n",
              "      <td>0</td>\n",
              "      <td>1</td>\n",
              "      <td>0</td>\n",
              "      <td>0</td>\n",
              "      <td>0</td>\n",
              "      <td>1</td>\n",
              "      <td>0</td>\n",
              "      <td>0</td>\n",
              "      <td>0</td>\n",
              "      <td>0</td>\n",
              "      <td>1</td>\n",
              "      <td>1</td>\n",
              "      <td>0</td>\n",
              "      <td>0</td>\n",
              "      <td>0</td>\n",
              "      <td>0</td>\n",
              "      <td>0</td>\n",
              "      <td>1</td>\n",
              "      <td>0</td>\n",
              "      <td>1</td>\n",
              "      <td>0</td>\n",
              "    </tr>\n",
              "  </tbody>\n",
              "</table>\n",
              "<p>5 rows × 230 columns</p>\n",
              "</div>"
            ],
            "text/plain": [
              "   0_a  0_c  0_g  0_t  1_a  1_c  ...  56_a  56_c  56_g  56_t  Class_+  Class_-\n",
              "0    0    0    0    1    1    0  ...     0     0     0     1        1        0\n",
              "1    0    0    0    1    0    0  ...     1     0     0     0        1        0\n",
              "2    0    0    1    0    0    0  ...     0     0     1     0        1        0\n",
              "3    1    0    0    0    1    0  ...     0     1     0     0        1        0\n",
              "4    0    0    0    1    0    1  ...     0     0     1     0        1        0\n",
              "\n",
              "[5 rows x 230 columns]"
            ]
          },
          "metadata": {},
          "execution_count": 15
        }
      ]
    },
    {
      "cell_type": "code",
      "metadata": {
        "id": "ZufsIIWcR9zP"
      },
      "source": [
        "# Drop class_- or Class_+ either of one\n",
        "numerical_df.drop('Class_-', axis = 1, inplace = True)"
      ],
      "execution_count": 16,
      "outputs": []
    },
    {
      "cell_type": "code",
      "metadata": {
        "id": "qYhcWq10SrHe"
      },
      "source": [
        "# rename Class_+ to Class\n",
        "numerical_df.rename(columns = {'Class_+':'Class'}, inplace = True)"
      ],
      "execution_count": 17,
      "outputs": []
    },
    {
      "cell_type": "markdown",
      "metadata": {
        "id": "nCWDo_-ELzoI"
      },
      "source": [
        "## Training and Testing the Classification Algorithm\n"
      ]
    },
    {
      "cell_type": "markdown",
      "metadata": {
        "id": "3WYNB53uUOm8"
      },
      "source": [
        "Splitting data"
      ]
    },
    {
      "cell_type": "code",
      "metadata": {
        "id": "Yr6E3jLRTOlw"
      },
      "source": [
        "X = numerical_df.drop(['Class'], axis = 1).values\n",
        "y = numerical_df['Class'].values\n",
        "\n",
        "#define a seed for reproducibility\n",
        "seed = 1\n",
        "\n",
        "# Splitting data into the training and testing data\n",
        "X_train, X_test, y_train, y_test = train_test_split(X, y, test_size = 0.25, random_state = seed)"
      ],
      "execution_count": 27,
      "outputs": []
    },
    {
      "cell_type": "code",
      "metadata": {
        "id": "m5f_A1lFUcZ6",
        "colab": {
          "base_uri": "https://localhost:8080/"
        },
        "outputId": "44772083-c838-4ca7-e3e5-fd5bf2c00259"
      },
      "source": [
        "# Define scoring method\n",
        "scoring = 'accuracy'\n",
        "# Model building to train\n",
        "names = ['SVM Linear', 'SVM RBF', 'SVM Sigmoid']\n",
        "Classifiers = [\n",
        "    svm.SVC(kernel = 'linear'),\n",
        "    svm.SVC(kernel = 'rbf'),\n",
        "    svm.SVC(kernel = 'sigmoid')\n",
        "    \n",
        "    ]\n",
        "models = zip(names, Classifiers)\n",
        "\n",
        "names = []\n",
        "result = []\n",
        "for name, model in models:\n",
        "    kfold = KFold(n_splits = 10, random_state = 1, shuffle=True)\n",
        "    cv_results = cross_val_score(model, X_train, y_train, cv = kfold, scoring = 'accuracy')\n",
        "    result.append(cv_results)\n",
        "    names.append(name)\n",
        "    msg = \"{0}: {1} ({2})\".format(name, cv_results.mean(), cv_results.std())\n",
        "    print(msg)"
      ],
      "execution_count": 28,
      "outputs": [
        {
          "output_type": "stream",
          "name": "stdout",
          "text": [
            "SVM Linear: 0.9125 (0.09762812094883318)\n",
            "SVM RBF: 0.875 (0.11180339887498948)\n",
            "SVM Sigmoid: 0.925 (0.1)\n"
          ]
        }
      ]
    },
    {
      "cell_type": "markdown",
      "metadata": {
        "id": "QYnUum_VbsWk"
      },
      "source": [
        "## The Model's Evaluation"
      ]
    },
    {
      "cell_type": "code",
      "metadata": {
        "id": "3_9tZkJMbwe7",
        "colab": {
          "base_uri": "https://localhost:8080/"
        },
        "outputId": "701211f1-6b33-4660-99d1-01944603bf21"
      },
      "source": [
        "\n",
        "\n",
        "#Test the algorithm on the test data set\n",
        "models = zip(names, Classifiers)\n",
        "for name, model in models:\n",
        "    model.fit(X_train, y_train)\n",
        "    y_pred = model.predict(X_test)\n",
        "    print(name)\n",
        "    print(accuracy_score(y_test, y_pred))\n",
        "    print(classification_report(y_test, y_pred))\n",
        "    \n",
        "\n"
      ],
      "execution_count": 29,
      "outputs": [
        {
          "output_type": "stream",
          "name": "stdout",
          "text": [
            "SVM Linear\n",
            "0.9629629629629629\n",
            "              precision    recall  f1-score   support\n",
            "\n",
            "           0       1.00      0.94      0.97        17\n",
            "           1       0.91      1.00      0.95        10\n",
            "\n",
            "    accuracy                           0.96        27\n",
            "   macro avg       0.95      0.97      0.96        27\n",
            "weighted avg       0.97      0.96      0.96        27\n",
            "\n",
            "SVM RBF\n",
            "0.9259259259259259\n",
            "              precision    recall  f1-score   support\n",
            "\n",
            "           0       1.00      0.88      0.94        17\n",
            "           1       0.83      1.00      0.91        10\n",
            "\n",
            "    accuracy                           0.93        27\n",
            "   macro avg       0.92      0.94      0.92        27\n",
            "weighted avg       0.94      0.93      0.93        27\n",
            "\n",
            "SVM Sigmoid\n",
            "0.9259259259259259\n",
            "              precision    recall  f1-score   support\n",
            "\n",
            "           0       1.00      0.88      0.94        17\n",
            "           1       0.83      1.00      0.91        10\n",
            "\n",
            "    accuracy                           0.93        27\n",
            "   macro avg       0.92      0.94      0.92        27\n",
            "weighted avg       0.94      0.93      0.93        27\n",
            "\n"
          ]
        }
      ]
    },
    {
      "cell_type": "markdown",
      "metadata": {
        "id": "6kzg6UCQcrok"
      },
      "source": [
        "Support Vector Machine with 'linear' kernel performed best with F1_score = 0.96 on testing data.\n"
      ]
    },
    {
      "cell_type": "markdown",
      "metadata": {
        "id": "cBZL_7pwf1fx"
      },
      "source": [
        "## Run SVM with linear kernel"
      ]
    },
    {
      "cell_type": "markdown",
      "metadata": {
        "id": "8wJYUOJnf-sl"
      },
      "source": [
        "Run SVM with linear kernel and C=1.0"
      ]
    },
    {
      "cell_type": "code",
      "metadata": {
        "id": "2lLkGczEf7Ab",
        "outputId": "24bf744b-34a7-4f9a-859c-cb785959ea0e",
        "colab": {
          "base_uri": "https://localhost:8080/"
        }
      },
      "source": [
        "# instantiate classifier with linear kernel and C=1.0\n",
        "linear_svc=SVC(kernel='linear', C=1.0) \n",
        "\n",
        "\n",
        "# fit classifier to training set\n",
        "linear_svc.fit(X_train,y_train)\n",
        "\n",
        "\n",
        "# make predictions on test set\n",
        "y_pred_test=linear_svc.predict(X_test)\n",
        "\n",
        "\n",
        "# compute and print accuracy score\n",
        "accuracy_score(y_test, y_pred_test)"
      ],
      "execution_count": 31,
      "outputs": [
        {
          "output_type": "execute_result",
          "data": {
            "text/plain": [
              "0.9629629629629629"
            ]
          },
          "metadata": {},
          "execution_count": 31
        }
      ]
    },
    {
      "cell_type": "markdown",
      "metadata": {
        "id": "BoiB7yaDgHSM"
      },
      "source": [
        "Run SVM with linear kernel and C=100.0"
      ]
    },
    {
      "cell_type": "code",
      "metadata": {
        "id": "C_UhEhQxf962",
        "outputId": "ea1d766e-a914-4e2f-995c-6e571c660d05",
        "colab": {
          "base_uri": "https://localhost:8080/"
        }
      },
      "source": [
        "# instantiate classifier with linear kernel and C=100.0\n",
        "linear_svc100=SVC(kernel='linear', C=100.0) \n",
        "\n",
        "\n",
        "# fit classifier to training set\n",
        "linear_svc100.fit(X_train, y_train)\n",
        "\n",
        "\n",
        "# make predictions on test set\n",
        "y_pred=linear_svc100.predict(X_test)\n",
        "\n",
        "\n",
        "# compute and print accuracy score\n",
        "accuracy_score(y_test, y_pred_test)"
      ],
      "execution_count": 32,
      "outputs": [
        {
          "output_type": "execute_result",
          "data": {
            "text/plain": [
              "0.9629629629629629"
            ]
          },
          "metadata": {},
          "execution_count": 32
        }
      ]
    },
    {
      "cell_type": "markdown",
      "metadata": {
        "id": "ohgjf0hjgT_K"
      },
      "source": [
        "Compare the train-set and test-set accuracy"
      ]
    },
    {
      "cell_type": "code",
      "metadata": {
        "id": "1e6EtBkQgVgp",
        "outputId": "101b6883-7505-42fa-a275-6bd534da38b2",
        "colab": {
          "base_uri": "https://localhost:8080/"
        }
      },
      "source": [
        "y_pred_train = linear_svc.predict(X_train)\n",
        "\n",
        "y_pred_train"
      ],
      "execution_count": 33,
      "outputs": [
        {
          "output_type": "execute_result",
          "data": {
            "text/plain": [
              "array([0, 0, 0, 1, 1, 1, 0, 1, 1, 1, 0, 0, 0, 0, 1, 0, 0, 0, 1, 1, 0, 0,\n",
              "       0, 1, 0, 1, 1, 1, 0, 1, 1, 0, 1, 0, 1, 1, 0, 0, 1, 1, 1, 1, 1, 0,\n",
              "       1, 0, 1, 0, 0, 1, 0, 0, 1, 0, 1, 0, 0, 1, 1, 1, 1, 0, 1, 1, 1, 1,\n",
              "       1, 0, 0, 1, 1, 0, 0, 1, 0, 1, 0, 1, 1], dtype=uint8)"
            ]
          },
          "metadata": {},
          "execution_count": 33
        }
      ]
    },
    {
      "cell_type": "code",
      "metadata": {
        "id": "3NV5dkHhgaft",
        "outputId": "c8677ca6-9de4-4634-e15c-83e1d2bd73da",
        "colab": {
          "base_uri": "https://localhost:8080/"
        }
      },
      "source": [
        "print('Training-set accuracy score: {0:0.4f}'. format(accuracy_score(y_train, y_pred_train)))"
      ],
      "execution_count": 34,
      "outputs": [
        {
          "output_type": "stream",
          "name": "stdout",
          "text": [
            "Training-set accuracy score: 1.0000\n"
          ]
        }
      ]
    },
    {
      "cell_type": "markdown",
      "metadata": {
        "id": "B-HxLRCKglL3"
      },
      "source": [
        "\n",
        "\n",
        "We can see that the training set and test-set accuracy are comparable.\n"
      ]
    },
    {
      "cell_type": "markdown",
      "metadata": {
        "id": "yUTe6IEWgpKr"
      },
      "source": [
        "\n",
        "## Check for overfitting and underfitting\n"
      ]
    },
    {
      "cell_type": "code",
      "metadata": {
        "id": "tmJSJtC9gnjr",
        "outputId": "9be4c00e-a6db-4570-b8e9-c580f63fa0ff",
        "colab": {
          "base_uri": "https://localhost:8080/"
        }
      },
      "source": [
        "# print the scores on training and test set\n",
        "\n",
        "print('Training set score: {:.4f}'.format(linear_svc.score(X_train, y_train)))\n",
        "\n",
        "print('Test set score: {:.4f}'.format(linear_svc.score(X_test, y_test)))"
      ],
      "execution_count": 35,
      "outputs": [
        {
          "output_type": "stream",
          "name": "stdout",
          "text": [
            "Training set score: 1.0000\n",
            "Test set score: 0.9630\n"
          ]
        }
      ]
    },
    {
      "cell_type": "markdown",
      "metadata": {
        "id": "BmgcoKEdg1hy"
      },
      "source": [
        "\n",
        "\n",
        "The training-set accuracy score is 1.00 while the test-set accuracy to be 0.9630. These two values are quite comparable. So, there is no question of overfitting.\n"
      ]
    },
    {
      "cell_type": "markdown",
      "metadata": {
        "id": "soMwz3aihv_S"
      },
      "source": [
        "## Run SVM with polynomial kernel"
      ]
    },
    {
      "cell_type": "code",
      "metadata": {
        "id": "SjUKmrdehzIb",
        "outputId": "ac5052b7-b6e2-4386-9b2b-f64732d666bf",
        "colab": {
          "base_uri": "https://localhost:8080/"
        }
      },
      "source": [
        "# instantiate classifier with polynomial kernel and C=1.0\n",
        "poly_svc=SVC(kernel='poly') \n",
        "\n",
        "\n",
        "# fit classifier to training set\n",
        "poly_svc.fit(X_train,y_train)\n",
        "\n",
        "\n",
        "# make predictions on test set\n",
        "y_pred=poly_svc.predict(X_test)\n",
        "\n",
        "\n",
        "# compute and print accuracy score\n",
        "print('Model accuracy score with polynomial kernel and C=1.0 : {0:0.4f}'. format(accuracy_score(y_test, y_pred)))\n"
      ],
      "execution_count": 41,
      "outputs": [
        {
          "output_type": "stream",
          "name": "stdout",
          "text": [
            "Model accuracy score with polynomial kernel and C=1.0 : 0.8889\n"
          ]
        }
      ]
    },
    {
      "cell_type": "markdown",
      "metadata": {
        "id": "u3tKcOvoiQEG"
      },
      "source": [
        "\n",
        "\n",
        "Polynomial kernel gives poor performance."
      ]
    },
    {
      "cell_type": "markdown",
      "metadata": {
        "id": "HZVeUe52itju"
      },
      "source": [
        "## ROC - AUC\n",
        "ROC Curve\n",
        "\n",
        "Another tool to measure the classification model performance visually is ROC Curve. ROC Curve stands for Receiver Operating Characteristic Curve. An ROC Curve is a plot which shows the performance of a classification model at various classification threshold levels."
      ]
    },
    {
      "cell_type": "code",
      "metadata": {
        "id": "tqdcj_Aii06v",
        "outputId": "d3869090-c3df-4467-b916-b5c3e35f0a3c",
        "colab": {
          "base_uri": "https://localhost:8080/",
          "height": 296
        }
      },
      "source": [
        "# plot ROC Curve\n",
        "\n",
        "from sklearn.metrics import roc_curve\n",
        "\n",
        "fpr, tpr, thresholds = roc_curve(y_test, y_pred_test)\n",
        "\n",
        "plt.figure(figsize=(6,4))\n",
        "\n",
        "plt.plot(fpr, tpr, linewidth=2)\n",
        "\n",
        "plt.plot([0,1], [0,1], 'k--' )\n",
        "\n",
        "plt.rcParams['font.size'] = 12\n",
        "\n",
        "plt.title('ROC curve for Predicting a Pulsar Star classifier')\n",
        "\n",
        "plt.xlabel('False Positive Rate (1 - Specificity)')\n",
        "\n",
        "plt.ylabel('True Positive Rate (Sensitivity)')\n",
        "\n",
        "plt.show()"
      ],
      "execution_count": 42,
      "outputs": [
        {
          "output_type": "display_data",
          "data": {
            "image/png": "[encoded data removed]",
            "text/plain": [
              "<Figure size 432x288 with 1 Axes>"
            ]
          },
          "metadata": {
            "needs_background": "light"
          }
        }
      ]
    },
    {
      "cell_type": "markdown",
      "metadata": {
        "id": "kcyMDH0vjI2X"
      },
      "source": [
        "ROC curve help us to choose a threshold level that balances sensitivity and specificity for a particular context."
      ]
    },
    {
      "cell_type": "markdown",
      "metadata": {
        "id": "TMpM_AqRjAna"
      },
      "source": [
        "##  Hyperparameter Optimization using GridSearch CV"
      ]
    },
    {
      "cell_type": "code",
      "metadata": {
        "id": "_hnv7iXFjKSf",
        "outputId": "2233ba4b-ca83-40bc-c110-0c3bbf248910",
        "colab": {
          "base_uri": "https://localhost:8080/"
        }
      },
      "source": [
        "# import GridSearchCV\n",
        "from sklearn.model_selection import GridSearchCV\n",
        "\n",
        "\n",
        "# import SVC classifier\n",
        "from sklearn.svm import SVC\n",
        "\n",
        "\n",
        "# instantiate classifier with default hyperparameters with kernel=rbf, C=1.0 and gamma=auto\n",
        "svc=SVC() \n",
        "\n",
        "\n",
        "\n",
        "# declare parameters for hyperparameter tuning\n",
        "parameters = [ {'C':[1, 10, 100, 1000], 'kernel':['linear']},\n",
        "               {'C':[1, 10, 100, 1000], 'kernel':['rbf'], 'gamma':[0.1, 0.2, 0.3, 0.4, 0.5, 0.6, 0.7, 0.8, 0.9]},\n",
        "               {'C':[1, 10, 100, 1000], 'kernel':['poly'], 'degree': [2,3,4] ,'gamma':[0.01,0.02,0.03,0.04,0.05]} \n",
        "              ]\n",
        "\n",
        "\n",
        "\n",
        "\n",
        "grid_search = GridSearchCV(estimator = svc,  \n",
        "                           param_grid = parameters,\n",
        "                           scoring = 'accuracy',\n",
        "                           cv = 5,\n",
        "                           verbose=0)\n",
        "\n",
        "\n",
        "grid_search.fit(X_train, y_train)"
      ],
      "execution_count": 43,
      "outputs": [
        {
          "output_type": "execute_result",
          "data": {
            "text/plain": [
              "GridSearchCV(cv=5, estimator=SVC(),\n",
              "             param_grid=[{'C': [1, 10, 100, 1000], 'kernel': ['linear']},\n",
              "                         {'C': [1, 10, 100, 1000],\n",
              "                          'gamma': [0.1, 0.2, 0.3, 0.4, 0.5, 0.6, 0.7, 0.8,\n",
              "                                    0.9],\n",
              "                          'kernel': ['rbf']},\n",
              "                         {'C': [1, 10, 100, 1000], 'degree': [2, 3, 4],\n",
              "                          'gamma': [0.01, 0.02, 0.03, 0.04, 0.05],\n",
              "                          'kernel': ['poly']}],\n",
              "             scoring='accuracy')"
            ]
          },
          "metadata": {},
          "execution_count": 43
        }
      ]
    },
    {
      "cell_type": "code",
      "metadata": {
        "id": "EArlu895jRr8",
        "outputId": "8ff7296b-5b9e-46a6-b3e0-b0aa3d61efe8",
        "colab": {
          "base_uri": "https://localhost:8080/"
        }
      },
      "source": [
        "# examine the best model\n",
        "\n",
        "\n",
        "# best score achieved during the GridSearchCV\n",
        "print('GridSearch CV best score : {:.4f}\\n\\n'.format(grid_search.best_score_))\n",
        "\n",
        "\n",
        "# print parameters that give the best results\n",
        "print('Parameters that give the best results :','\\n\\n', (grid_search.best_params_))\n",
        "\n",
        "\n",
        "# print estimator that was chosen by the GridSearch\n",
        "print('\\n\\nEstimator that was chosen by the search :','\\n\\n', (grid_search.best_estimator_))"
      ],
      "execution_count": 44,
      "outputs": [
        {
          "output_type": "stream",
          "name": "stdout",
          "text": [
            "GridSearch CV best score : 0.9117\n",
            "\n",
            "\n",
            "Parameters that give the best results : \n",
            "\n",
            " {'C': 1, 'degree': 2, 'gamma': 0.02, 'kernel': 'poly'}\n",
            "\n",
            "\n",
            "Estimator that was chosen by the search : \n",
            "\n",
            " SVC(C=1, degree=2, gamma=0.02, kernel='poly')\n"
          ]
        }
      ]
    }
  ]
}